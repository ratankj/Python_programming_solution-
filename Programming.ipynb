{
 "cells": [
  {
   "cell_type": "code",
   "execution_count": null,
   "id": "adc49a5a",
   "metadata": {},
   "outputs": [],
   "source": []
  },
  {
   "cell_type": "code",
   "execution_count": null,
   "id": "df7385de",
   "metadata": {},
   "outputs": [],
   "source": [
    "# factorail of num\n",
    "\n"
   ]
  },
  {
   "cell_type": "code",
   "execution_count": 3,
   "id": "51de5183",
   "metadata": {},
   "outputs": [
    {
     "name": "stdout",
     "output_type": "stream",
     "text": [
      "enter a number for factorial3\n",
      "factorial of a number is : 6\n"
     ]
    }
   ],
   "source": [
    "fact=int(input(\"enter a number for factorial\"))\n",
    "fact_num=1\n",
    "\n",
    "for i in range(1,fact+1):\n",
    "    fact_num=fact_num * i\n",
    "print(f\"factorial of a number is : {fact_num}\")\n",
    "    "
   ]
  },
  {
   "cell_type": "code",
   "execution_count": null,
   "id": "696efeb6",
   "metadata": {},
   "outputs": [],
   "source": []
  },
  {
   "cell_type": "code",
   "execution_count": null,
   "id": "27d09048",
   "metadata": {},
   "outputs": [],
   "source": [
    "# prime or not"
   ]
  },
  {
   "cell_type": "code",
   "execution_count": 5,
   "id": "6f9568d9",
   "metadata": {},
   "outputs": [
    {
     "name": "stdout",
     "output_type": "stream",
     "text": [
      "enter a number to check prime or not4\n",
      "4 is not a prime number\n"
     ]
    }
   ],
   "source": [
    "# Program to check if a number is prime or not\n",
    "\n",
    "num = int(input(\"enter a number to check prime or not\"))\n",
    "\n",
    "flag = False\n",
    "\n",
    "if num == 1:\n",
    "    print(num, \"is not a prime number\")\n",
    "elif num > 1:\n",
    "    # check for factors\n",
    "    for i in range(2, num):\n",
    "        if (num % i) == 0:\n",
    "            # if factor is found, set flag to True\n",
    "            flag = True\n",
    "            # break out of loop\n",
    "            break\n",
    "\n",
    "    # check if flag is True\n",
    "    if flag:\n",
    "        print(num, \"is not a prime number\")\n",
    "    else:\n",
    "        print(num, \"is a prime number\")"
   ]
  },
  {
   "cell_type": "code",
   "execution_count": null,
   "id": "906635f9",
   "metadata": {},
   "outputs": [],
   "source": []
  },
  {
   "cell_type": "code",
   "execution_count": null,
   "id": "a6f10742",
   "metadata": {},
   "outputs": [],
   "source": [
    "# fibonacci num"
   ]
  },
  {
   "cell_type": "code",
   "execution_count": 9,
   "id": "b3d8958f",
   "metadata": {},
   "outputs": [
    {
     "name": "stdout",
     "output_type": "stream",
     "text": [
      "enter a number for fabonnic5\n",
      "0 1 1 2 3 5 8 "
     ]
    }
   ],
   "source": [
    "fab=int(input(\"enter a number for fabonnic : \"))\n",
    "a=0\n",
    "b=1\n",
    "print(a,end=' ')\n",
    "print(b,end=' ')\n",
    "for i in range(fab):\n",
    "    \n",
    "    c=a+b\n",
    "    print(c,end =' ')\n",
    "    a=b\n",
    "    b=c\n",
    "    \n",
    "    \n",
    "    "
   ]
  },
  {
   "cell_type": "code",
   "execution_count": null,
   "id": "2bf3fe31",
   "metadata": {},
   "outputs": [],
   "source": []
  },
  {
   "cell_type": "code",
   "execution_count": null,
   "id": "7f705948",
   "metadata": {},
   "outputs": [],
   "source": [
    "#sum of first n natural num\n"
   ]
  },
  {
   "cell_type": "code",
   "execution_count": 12,
   "id": "701ae9b9",
   "metadata": {},
   "outputs": [
    {
     "name": "stdout",
     "output_type": "stream",
     "text": [
      "enter a no to get natural number: 6\n",
      "find sum of first natural num : 21\n"
     ]
    }
   ],
   "source": [
    "nat_num=int(input(\"enter a no to get natural number: \"))\n",
    "\n",
    "sum=0\n",
    "for i in range(1,nat_num+1):\n",
    "    sum=sum+i\n",
    "print(f\"find sum of first natural num : {sum}\")"
   ]
  },
  {
   "cell_type": "code",
   "execution_count": null,
   "id": "dcf2c76b",
   "metadata": {},
   "outputs": [],
   "source": []
  },
  {
   "cell_type": "code",
   "execution_count": null,
   "id": "f975bfb2",
   "metadata": {},
   "outputs": [],
   "source": [
    "# find the largest num"
   ]
  },
  {
   "cell_type": "code",
   "execution_count": 24,
   "id": "84991568",
   "metadata": {},
   "outputs": [
    {
     "name": "stdout",
     "output_type": "stream",
     "text": [
      "largest no 343\n"
     ]
    }
   ],
   "source": [
    "l=[15,5,32,6,12,9,90,54,343,2]\n",
    "\n",
    "max=l[0]\n",
    "#print(max)\n",
    "\n",
    "for i in l:\n",
    "    \n",
    " \n",
    "    if i > max:\n",
    "        max=i\n",
    "print('largest no',max)\n"
   ]
  },
  {
   "cell_type": "code",
   "execution_count": null,
   "id": "29005b61",
   "metadata": {},
   "outputs": [],
   "source": [
    "#pyhton program for find remainder of array multiplication divided by n"
   ]
  },
  {
   "cell_type": "code",
   "execution_count": 27,
   "id": "b3867149",
   "metadata": {},
   "outputs": [
    {
     "name": "stdout",
     "output_type": "stream",
     "text": [
      "enter a num5\n",
      "61250000\n",
      "remainder is  0\n"
     ]
    }
   ],
   "source": [
    "l=[100,10,5,25,35,14]\n",
    "a=int(input(\"enter a num\"))\n",
    "num=1\n",
    "for i in l:\n",
    "    num=num*i\n",
    "print(num)\n",
    "\n",
    "remainder=num%a\n",
    "\n",
    "print('remainder is ',remainder)"
   ]
  },
  {
   "cell_type": "code",
   "execution_count": null,
   "id": "4b40f0b4",
   "metadata": {},
   "outputs": [],
   "source": []
  },
  {
   "cell_type": "code",
   "execution_count": null,
   "id": "a8926a34",
   "metadata": {},
   "outputs": [],
   "source": [
    "# sum of digit of a num"
   ]
  },
  {
   "cell_type": "code",
   "execution_count": 33,
   "id": "278c6732",
   "metadata": {},
   "outputs": [
    {
     "name": "stdout",
     "output_type": "stream",
     "text": [
      "enter a num to sum633423\n",
      "21\n"
     ]
    }
   ],
   "source": [
    "num=input(\"enter a num to sum\")\n",
    "#print(num)\n",
    "sum=0\n",
    "for i in num :\n",
    "    #print(i)\n",
    "    sum=sum + int(i)\n",
    "print(sum)\n",
    "    "
   ]
  },
  {
   "cell_type": "code",
   "execution_count": null,
   "id": "4b76ac2a",
   "metadata": {},
   "outputs": [],
   "source": []
  },
  {
   "cell_type": "code",
   "execution_count": 1,
   "id": "3479aa32",
   "metadata": {},
   "outputs": [],
   "source": [
    "#count occurance of a element in the list"
   ]
  },
  {
   "cell_type": "code",
   "execution_count": 8,
   "id": "8a57f1a3",
   "metadata": {},
   "outputs": [
    {
     "name": "stdout",
     "output_type": "stream",
     "text": [
      "11 occur 2 times\n",
      "2 occur 1 times\n",
      "3 occur 5 times\n",
      "1 occur 2 times\n",
      "5 occur 1 times\n",
      "3 occur 5 times\n",
      "7 occur 4 times\n",
      "3 occur 5 times\n",
      "7 occur 4 times\n",
      "3 occur 5 times\n",
      "7 occur 4 times\n",
      "3 occur 5 times\n",
      "1 occur 2 times\n",
      "4 occur 1 times\n",
      "6 occur 2 times\n",
      "7 occur 4 times\n",
      "9 occur 1 times\n",
      "6 occur 2 times\n",
      "11 occur 2 times\n"
     ]
    }
   ],
   "source": [
    "a=[11,2,3,1,5,3,7,3,7,3,7,3,1,4,6,7,9,6,11]\n",
    "count=0\n",
    "for i in a:\n",
    "    count=0\n",
    "    for j in a:\n",
    "        if j==i:\n",
    "            count=count+1\n",
    "    print(f\"{i} occur {count} times\")"
   ]
  },
  {
   "cell_type": "code",
   "execution_count": 11,
   "id": "e8cfb14e",
   "metadata": {},
   "outputs": [
    {
     "name": "stdout",
     "output_type": "stream",
     "text": [
      "11 occur 2 times\n"
     ]
    }
   ],
   "source": [
    "a=[11,2,3,1,5,3,7,3,7,3,7,3,1,4,6,7,9,6,11]\n",
    "x=11\n",
    "count=0\n",
    "for i in a:\n",
    "    if i==x:\n",
    "        count=count+1\n",
    "print(f\"{x} occur {count} times\")"
   ]
  },
  {
   "cell_type": "code",
   "execution_count": null,
   "id": "3c0108ef",
   "metadata": {},
   "outputs": [],
   "source": []
  },
  {
   "cell_type": "code",
   "execution_count": null,
   "id": "b6698a2a",
   "metadata": {},
   "outputs": [],
   "source": [
    "# reverse a list"
   ]
  },
  {
   "cell_type": "code",
   "execution_count": 14,
   "id": "757b0ef8",
   "metadata": {},
   "outputs": [],
   "source": [
    "a=[11,2,3,1,5,3,7,3,7,3,7,3,1,4,6,7,9,6]"
   ]
  },
  {
   "cell_type": "code",
   "execution_count": 15,
   "id": "5b743172",
   "metadata": {},
   "outputs": [
    {
     "data": {
      "text/plain": [
       "[6, 9, 7, 6, 4, 1, 3, 7, 3, 7, 3, 7, 3, 5, 1, 3, 2, 11]"
      ]
     },
     "execution_count": 15,
     "metadata": {},
     "output_type": "execute_result"
    }
   ],
   "source": [
    "a[::-1]"
   ]
  },
  {
   "cell_type": "code",
   "execution_count": 16,
   "id": "4d486271",
   "metadata": {},
   "outputs": [],
   "source": [
    "# program"
   ]
  },
  {
   "cell_type": "code",
   "execution_count": null,
   "id": "e05d6893",
   "metadata": {},
   "outputs": [],
   "source": []
  },
  {
   "cell_type": "code",
   "execution_count": 19,
   "id": "ddf3dc1f",
   "metadata": {},
   "outputs": [
    {
     "ename": "TypeError",
     "evalue": "'int' object is not subscriptable",
     "output_type": "error",
     "traceback": [
      "\u001b[1;31m---------------------------------------------------------------------------\u001b[0m",
      "\u001b[1;31mTypeError\u001b[0m                                 Traceback (most recent call last)",
      "Input \u001b[1;32mIn [19]\u001b[0m, in \u001b[0;36m<cell line: 3>\u001b[1;34m()\u001b[0m\n\u001b[0;32m      3\u001b[0m \u001b[38;5;28;01mfor\u001b[39;00m i \u001b[38;5;129;01min\u001b[39;00m a:\n\u001b[0;32m      4\u001b[0m     \u001b[38;5;28;01mfor\u001b[39;00m j \u001b[38;5;129;01min\u001b[39;00m a:\n\u001b[1;32m----> 5\u001b[0m         \u001b[38;5;28mprint\u001b[39m(\u001b[43mj\u001b[49m\u001b[43m[\u001b[49m\u001b[38;5;241;43m1\u001b[39;49m\u001b[43m]\u001b[49m)\n",
      "\u001b[1;31mTypeError\u001b[0m: 'int' object is not subscriptable"
     ]
    }
   ],
   "source": [
    "a=[11,2,3,1,5,3,7,3,7,3,7,3,1,4,6,7,9,6]\n",
    "b=[]\n",
    "for i in a:\n",
    "    for j in a:\n",
    "        print()\n",
    "        \n",
    "    "
   ]
  },
  {
   "cell_type": "code",
   "execution_count": null,
   "id": "b8c7041a",
   "metadata": {},
   "outputs": [],
   "source": []
  },
  {
   "cell_type": "code",
   "execution_count": null,
   "id": "63d1f3df",
   "metadata": {},
   "outputs": [],
   "source": []
  },
  {
   "cell_type": "markdown",
   "id": "7b8d133e",
   "metadata": {},
   "source": [
    "# day 1"
   ]
  },
  {
   "cell_type": "code",
   "execution_count": null,
   "id": "3d92725d",
   "metadata": {},
   "outputs": [],
   "source": [
    "# python program to swap two element in a list\n",
    "# python program reversing a list\n",
    "# count occurance of an element in a list\n",
    "# python program to print duplicates from a list of integers\n",
    "# python program to check if a string is a palindrom or not\n",
    "# python program to check if a substring present in a given string or not\n"
   ]
  },
  {
   "cell_type": "code",
   "execution_count": null,
   "id": "142c8e64",
   "metadata": {},
   "outputs": [],
   "source": []
  },
  {
   "cell_type": "markdown",
   "id": "c965468c",
   "metadata": {},
   "source": [
    "# python program to swap two element in a list\n",
    "\n"
   ]
  },
  {
   "cell_type": "code",
   "execution_count": 19,
   "id": "892f2a12",
   "metadata": {},
   "outputs": [
    {
     "name": "stdout",
     "output_type": "stream",
     "text": [
      "[13, 43, 12, 21, 45, 78]\n"
     ]
    }
   ],
   "source": [
    "l=[13,12,43,21,45,78]\n",
    "a=l[2]\n",
    "l[2]=l[1]\n",
    "\n",
    "l[1]=a\n",
    "\n",
    "print(l)\n",
    "\n"
   ]
  },
  {
   "cell_type": "code",
   "execution_count": 13,
   "id": "3a8641ed",
   "metadata": {},
   "outputs": [
    {
     "name": "stdout",
     "output_type": "stream",
     "text": [
      "[19, 65, 23, 90]\n"
     ]
    }
   ],
   "source": [
    "\n",
    "# Python3 program to swap elements\n",
    "# at given positions\n",
    " \n",
    "# Swap function\n",
    "def swapPositions(list, pos1, pos2):\n",
    "     \n",
    "    list[pos1], list[pos2] = list[pos2], list[pos1]\n",
    "    return list\n",
    " \n",
    "# Driver function\n",
    "List = [23, 65, 19, 90]\n",
    "pos1, pos2  = 1, 3\n",
    " \n",
    "print(swapPositions(List, pos1-1, pos2-1))"
   ]
  },
  {
   "cell_type": "code",
   "execution_count": null,
   "id": "3786d268",
   "metadata": {},
   "outputs": [],
   "source": []
  },
  {
   "cell_type": "markdown",
   "id": "ed294da4",
   "metadata": {},
   "source": [
    "# ques 2 -  python program reversing a list"
   ]
  },
  {
   "cell_type": "code",
   "execution_count": 62,
   "id": "7feb9cb2",
   "metadata": {},
   "outputs": [
    {
     "data": {
      "text/plain": [
       "[78, 45, 21, 43, 12, 13]"
      ]
     },
     "execution_count": 62,
     "metadata": {},
     "output_type": "execute_result"
    }
   ],
   "source": [
    "l=[13,12,43,21,45,78]\n",
    "l[::-1]"
   ]
  },
  {
   "cell_type": "code",
   "execution_count": 61,
   "id": "7f286271",
   "metadata": {},
   "outputs": [
    {
     "name": "stdout",
     "output_type": "stream",
     "text": [
      "original list : [13, 12, 43, 21, 45, 78]\n",
      "reverse list : [78, 45, 21, 43, 12, 13]\n"
     ]
    }
   ],
   "source": [
    "a=0\n",
    "b=-1\n",
    "s=[13,12,43,21,45,78]\n",
    "print(f\"original list : {s}\")\n",
    "for i in range(len(s)):\n",
    "    if i==round((len(s))/2,0):\n",
    "        break\n",
    "    else:\n",
    "        temp=s[a]\n",
    "        s[a]=s[b]\n",
    "        s[b]=temp\n",
    "        a=a+1\n",
    "        b=b-1\n",
    "print(f\"reverse list : {s}\")\n",
    "    \n",
    "    \n",
    "    "
   ]
  },
  {
   "cell_type": "code",
   "execution_count": 42,
   "id": "0c8f3944",
   "metadata": {},
   "outputs": [
    {
     "name": "stdout",
     "output_type": "stream",
     "text": [
      "[7, 6, 5, 4, 3, 2, 1]\n"
     ]
    }
   ],
   "source": [
    "\n",
    "# Reversing a list using two-pointer approach\n",
    "def reverse_list(arr):\n",
    "    left = 0\n",
    "    right = len(arr)-1\n",
    "    while (left < right):\n",
    "        # Swap\n",
    "        temp = arr[left]\n",
    "        arr[left] = arr[right]\n",
    "        arr[right] = temp\n",
    "        left += 1\n",
    "        right -= 1\n",
    " \n",
    "    return arr\n",
    " \n",
    "arr = [1, 2, 3, 4, 5, 6, 7]\n",
    "print(reverse_list(arr))"
   ]
  },
  {
   "cell_type": "code",
   "execution_count": null,
   "id": "43269bb1",
   "metadata": {},
   "outputs": [],
   "source": []
  },
  {
   "cell_type": "markdown",
   "id": "fda74fb5",
   "metadata": {},
   "source": [
    "# ques 3 - count occurance of an element in a list"
   ]
  },
  {
   "cell_type": "code",
   "execution_count": 65,
   "id": "403ca93b",
   "metadata": {},
   "outputs": [
    {
     "data": {
      "text/plain": [
       "4"
      ]
     },
     "execution_count": 65,
     "metadata": {},
     "output_type": "execute_result"
    }
   ],
   "source": [
    "arr = [1, 2,2,2, 3, 4, 5, 6,6,4,2,4,3,6,3,7,4 ,7]\n",
    "arr.count(2)"
   ]
  },
  {
   "cell_type": "code",
   "execution_count": 79,
   "id": "6aca29c8",
   "metadata": {},
   "outputs": [
    {
     "name": "stdout",
     "output_type": "stream",
     "text": [
      "1 occur 1 times\n",
      "2 occur 4 times\n",
      "3 occur 3 times\n",
      "4 occur 4 times\n",
      "5 occur 1 times\n",
      "6 occur 3 times\n",
      "7 occur 2 times\n",
      "8 occur 3 times\n",
      "9 occur 3 times\n",
      "[1, 2, 3, 4, 5, 6, 7, 8, 9]\n"
     ]
    }
   ],
   "source": [
    "p=[]\n",
    "l = [1, 2,2,2, 3, 4, 5, 6,6,4,2,4,3,6,3,7,4 ,8,8,8,9,9,9,7]\n",
    "for i in range(len(l)):\n",
    "    count=0\n",
    "    if l[i]  in p:\n",
    "        continue\n",
    "    for j in range(len(l)):\n",
    "        if l[i]==l[j]:\n",
    "            count=count+1\n",
    "    p.append(l[i])\n",
    "       \n",
    "            \n",
    "    print(f\"{l[i]} occur {count} times\")\n",
    "print(p)"
   ]
  },
  {
   "cell_type": "code",
   "execution_count": null,
   "id": "8b830e0f",
   "metadata": {},
   "outputs": [],
   "source": []
  },
  {
   "cell_type": "markdown",
   "id": "e135b813",
   "metadata": {},
   "source": [
    "# quest 4 - python program to print duplicates from a list of integers"
   ]
  },
  {
   "cell_type": "code",
   "execution_count": null,
   "id": "853a0e8d",
   "metadata": {},
   "outputs": [],
   "source": []
  },
  {
   "cell_type": "code",
   "execution_count": 105,
   "id": "6f61d42e",
   "metadata": {},
   "outputs": [
    {
     "name": "stdout",
     "output_type": "stream",
     "text": [
      "original list is [1, 2, 2, 2, 3, 3, 3, 4, 4, 4, 4, 5, 6, 6, 6, 7, 7, 8]\n",
      "duplicate number are [2, 3, 4, 6, 7]\n"
     ]
    }
   ],
   "source": [
    "arr = [1, 5,2,2, 3, 4, 8, 6,6,4,2,4,3,6,3,7,4 ,7]\n",
    "arr.sort()\n",
    "print(f\"original list is {arr}\")\n",
    "b=1\n",
    "l=[]\n",
    "for i in range(len(arr)-1):\n",
    "\n",
    "    if arr[i]==arr[b]:\n",
    "        if arr[i] not in l:\n",
    "            l.append(arr[i])\n",
    "        b=b+1\n",
    "    else:\n",
    "        b=b+1\n",
    "print(f\"duplicate number are {l}\")\n",
    "    "
   ]
  },
  {
   "cell_type": "code",
   "execution_count": 101,
   "id": "450f08ad",
   "metadata": {},
   "outputs": [
    {
     "name": "stdout",
     "output_type": "stream",
     "text": [
      "Duplicates: [2, 3, 4, 6, 7]\n"
     ]
    }
   ],
   "source": [
    "# Define the list of integers\n",
    "arr = [1, 5, 2, 2, 3, 4, 8, 6, 6, 4, 2, 4, 3, 6, 3, 7, 4, 7]\n",
    "\n",
    "# Define an empty list to store the duplicates\n",
    "duplicates = []\n",
    "\n",
    "# Iterate through the list\n",
    "for i in range(len(arr)):\n",
    "    # Check if the current element appears again in the list\n",
    "    if arr[i] in arr[i+1:]:\n",
    "        # If it does, append it to the duplicates list\n",
    "        if arr[i] not in duplicates:\n",
    "            duplicates.append(arr[i])\n",
    "\n",
    "# Print the duplicates list\n",
    "print(\"Duplicates:\", duplicates)\n"
   ]
  },
  {
   "cell_type": "code",
   "execution_count": null,
   "id": "c121b64a",
   "metadata": {},
   "outputs": [],
   "source": []
  },
  {
   "cell_type": "markdown",
   "id": "94210e57",
   "metadata": {},
   "source": [
    "#  python program to check if a string is a palindrom or not"
   ]
  },
  {
   "cell_type": "code",
   "execution_count": null,
   "id": "33841f55",
   "metadata": {},
   "outputs": [],
   "source": []
  },
  {
   "cell_type": "code",
   "execution_count": 109,
   "id": "12c97ba7",
   "metadata": {},
   "outputs": [
    {
     "name": "stdout",
     "output_type": "stream",
     "text": [
      "axa this string is palindrom\n"
     ]
    }
   ],
   "source": [
    "def palindrom(a):\n",
    "    if a == a[::-1]:\n",
    "        print(f\"{a} this string is palindrom string\")\n",
    "    else:\n",
    "        print(f\"{a} this string is not a palindrom string\")\n",
    "        \n",
    "palindrom('axa')\n"
   ]
  },
  {
   "cell_type": "code",
   "execution_count": null,
   "id": "140f2b13",
   "metadata": {},
   "outputs": [],
   "source": []
  },
  {
   "cell_type": "markdown",
   "id": "052d10fe",
   "metadata": {},
   "source": [
    "# python program to check if a substring present in a given string or not"
   ]
  },
  {
   "cell_type": "code",
   "execution_count": null,
   "id": "79766bfd",
   "metadata": {},
   "outputs": [],
   "source": []
  },
  {
   "cell_type": "code",
   "execution_count": 117,
   "id": "246c05b6",
   "metadata": {},
   "outputs": [
    {
     "name": "stdout",
     "output_type": "stream",
     "text": [
      "Yes! Geeks-13 is containing.\n",
      "Yes! Geeks-78 is containing.\n"
     ]
    }
   ],
   "source": [
    "\n",
    "a = ['Geeks-13', 'for-56', 'Geeks-78', 'xyz-46']\n",
    "for i in a:\n",
    "    if i.__contains__(\"Geeks\"):\n",
    "        print(f\"Yes! {i} is containing.\")"
   ]
  },
  {
   "cell_type": "code",
   "execution_count": null,
   "id": "e0cd516f",
   "metadata": {},
   "outputs": [],
   "source": []
  },
  {
   "cell_type": "code",
   "execution_count": 114,
   "id": "3865e667",
   "metadata": {},
   "outputs": [
    {
     "name": "stdout",
     "output_type": "stream",
     "text": [
      "yes\n"
     ]
    }
   ],
   "source": [
    "\n",
    "\n",
    "# Python code\n",
    "# To check if a substring is present in a given string or not\n",
    " \n",
    "# input strings str1 and substr\n",
    "string = \"geeks for geeks\"  # or string=input() -> taking input from the user\n",
    "substring = \"geeks\"  # or substring=input()\n",
    " \n",
    "# splitting words in a given string\n",
    "s = string.split()\n",
    " \n",
    "# checking condition\n",
    "# if substring is present in the given string then it gives output as yes\n",
    "if substring in s:\n",
    "    print(\"yes\")\n",
    "else:\n",
    "    print(\"no\")"
   ]
  },
  {
   "cell_type": "code",
   "execution_count": null,
   "id": "7c7c1031",
   "metadata": {},
   "outputs": [],
   "source": [
    "\n"
   ]
  },
  {
   "cell_type": "markdown",
   "id": "ac101296",
   "metadata": {},
   "source": [
    "##### python program to find largest element in an array\n",
    "\n",
    "##### pythonn program to print odd number in a list\n",
    "\n",
    "##### python program remove the i'th character from string in  python\n",
    "\n",
    "##### python program maximum frquency charchter in a string\n",
    "\n",
    "##### python program to print even length words in a string\n",
    "\n"
   ]
  },
  {
   "cell_type": "code",
   "execution_count": null,
   "id": "c58a8f3d",
   "metadata": {},
   "outputs": [],
   "source": []
  },
  {
   "cell_type": "code",
   "execution_count": null,
   "id": "7baa40ce",
   "metadata": {},
   "outputs": [],
   "source": []
  },
  {
   "cell_type": "markdown",
   "id": "b274a5d6",
   "metadata": {},
   "source": [
    "### python program to find largest element in an array"
   ]
  },
  {
   "cell_type": "code",
   "execution_count": null,
   "id": "99614a76",
   "metadata": {},
   "outputs": [],
   "source": [
    "l=[15,5,32,6,12,9,90,54,343,2]\n",
    "\n",
    "max=l[0]\n",
    "#print(max)\n",
    "\n",
    "for i in l:\n",
    "    \n",
    " \n",
    "    if i > max:\n",
    "        max=i\n",
    "print('largest no',max)"
   ]
  },
  {
   "cell_type": "code",
   "execution_count": 1,
   "id": "46c15eef",
   "metadata": {},
   "outputs": [
    {
     "name": "stdout",
     "output_type": "stream",
     "text": [
      "largest num is  343\n"
     ]
    }
   ],
   "source": [
    "l=[15,5,32,6,12,9,90,54,343,2]\n",
    "max=l[0]\n",
    "\n",
    "for i in l:\n",
    "    if i> max:\n",
    "        max = i\n",
    "print('largest num is ',max)"
   ]
  },
  {
   "cell_type": "code",
   "execution_count": null,
   "id": "52b1e18c",
   "metadata": {},
   "outputs": [],
   "source": []
  },
  {
   "cell_type": "markdown",
   "id": "34adf371",
   "metadata": {},
   "source": [
    "### pythonn program to print odd number in a list"
   ]
  },
  {
   "cell_type": "code",
   "execution_count": null,
   "id": "20f8487a",
   "metadata": {},
   "outputs": [],
   "source": []
  },
  {
   "cell_type": "code",
   "execution_count": 10,
   "id": "e4376c70",
   "metadata": {},
   "outputs": [],
   "source": [
    "def odd(list_num):\n",
    "    l=[]\n",
    "    for i in list_num:\n",
    "        #if i in l:\n",
    "            #continue\n",
    "        if i%2 != 0:\n",
    "            l.append(i)\n",
    "    print(l)\n",
    "list_num=[2,3,4,2,6,5,7,8,9,13,17,7]\n",
    "            "
   ]
  },
  {
   "cell_type": "code",
   "execution_count": 11,
   "id": "e8b02ce8",
   "metadata": {},
   "outputs": [
    {
     "name": "stdout",
     "output_type": "stream",
     "text": [
      "[3, 5, 7, 9, 13, 17, 7]\n"
     ]
    }
   ],
   "source": [
    "odd(list_num)"
   ]
  },
  {
   "cell_type": "code",
   "execution_count": null,
   "id": "78eb2044",
   "metadata": {},
   "outputs": [],
   "source": []
  },
  {
   "cell_type": "code",
   "execution_count": 2,
   "id": "9d1f8fcf",
   "metadata": {},
   "outputs": [
    {
     "name": "stdout",
     "output_type": "stream",
     "text": [
      "hello world\n"
     ]
    }
   ],
   "source": [
    "Lambda : print(\"hello world\")"
   ]
  },
  {
   "cell_type": "code",
   "execution_count": 11,
   "id": "642f13c9",
   "metadata": {},
   "outputs": [],
   "source": [
    "a= lambda x: x+5"
   ]
  },
  {
   "cell_type": "code",
   "execution_count": 12,
   "id": "56f3007f",
   "metadata": {},
   "outputs": [
    {
     "name": "stdout",
     "output_type": "stream",
     "text": [
      "15\n"
     ]
    }
   ],
   "source": [
    "print(a(10))"
   ]
  },
  {
   "cell_type": "code",
   "execution_count": 13,
   "id": "08a86fa4",
   "metadata": {},
   "outputs": [],
   "source": [
    "sum = lambda x, y: x + y\n"
   ]
  },
  {
   "cell_type": "code",
   "execution_count": 14,
   "id": "d4869437",
   "metadata": {},
   "outputs": [
    {
     "data": {
      "text/plain": [
       "15"
      ]
     },
     "execution_count": 14,
     "metadata": {},
     "output_type": "execute_result"
    }
   ],
   "source": [
    "sum(10,5)"
   ]
  },
  {
   "cell_type": "code",
   "execution_count": 15,
   "id": "6c825a4a",
   "metadata": {},
   "outputs": [
    {
     "name": "stdout",
     "output_type": "stream",
     "text": [
      "[{'name': 'Charlie', 'age': 20}, {'name': 'Alice', 'age': 25}, {'name': 'Bob', 'age': 30}]\n"
     ]
    }
   ],
   "source": [
    "# Program to sort a list of dictionaries by a specific key\n",
    "\n",
    "list_of_dicts = [\n",
    "    {'name': 'Alice', 'age': 25},\n",
    "    {'name': 'Bob', 'age': 30},\n",
    "    {'name': 'Charlie', 'age': 20},\n",
    "]\n",
    "\n",
    "# Use a lambda function to sort the list of dictionaries by age\n",
    "sorted_list = sorted(list_of_dicts, key=lambda x: x['age'])\n",
    "\n",
    "# Print the sorted list\n",
    "print(sorted_list)\n"
   ]
  },
  {
   "cell_type": "code",
   "execution_count": 18,
   "id": "fa612821",
   "metadata": {},
   "outputs": [
    {
     "name": "stdout",
     "output_type": "stream",
     "text": [
      "[55, 75, 13, 63]\n"
     ]
    }
   ],
   "source": [
    "# Code to filter odd numbers from a given list  \n",
    "list_ = [34, 12, 64, 55, 75, 13, 63]  \n",
    "  \n",
    "odd_list = list(filter( lambda num: (num % 2 != 0) , list_))  \n",
    "  \n",
    "print(odd_list) "
   ]
  },
  {
   "cell_type": "code",
   "execution_count": 34,
   "id": "3327c783",
   "metadata": {},
   "outputs": [],
   "source": [
    "list_ = [34, 12, 64, 55, 75, 13, 63]  \n",
    "odd=list(filter(lambda x :(x%2 != 0),list_))"
   ]
  },
  {
   "cell_type": "code",
   "execution_count": 35,
   "id": "2532946a",
   "metadata": {},
   "outputs": [
    {
     "name": "stdout",
     "output_type": "stream",
     "text": [
      "[55, 75, 13, 63]\n"
     ]
    }
   ],
   "source": [
    "print(odd)"
   ]
  },
  {
   "cell_type": "code",
   "execution_count": 38,
   "id": "d124456b",
   "metadata": {},
   "outputs": [],
   "source": [
    "y=lambda add:add+10"
   ]
  },
  {
   "cell_type": "code",
   "execution_count": 39,
   "id": "798c1b75",
   "metadata": {},
   "outputs": [
    {
     "data": {
      "text/plain": [
       "16"
      ]
     },
     "execution_count": 39,
     "metadata": {},
     "output_type": "execute_result"
    }
   ],
   "source": [
    "y(6)"
   ]
  },
  {
   "cell_type": "code",
   "execution_count": 40,
   "id": "3f142e85",
   "metadata": {},
   "outputs": [
    {
     "data": {
      "text/plain": [
       "[4, 9, 16, 25]"
      ]
     },
     "execution_count": 40,
     "metadata": {},
     "output_type": "execute_result"
    }
   ],
   "source": [
    "list1 = [2, 3, 4, 5]\n",
    "\n",
    "list(map(lambda x: pow(x, 2), list1))\n"
   ]
  },
  {
   "cell_type": "code",
   "execution_count": null,
   "id": "e1b86a9a",
   "metadata": {},
   "outputs": [],
   "source": []
  }
 ],
 "metadata": {
  "kernelspec": {
   "display_name": "Python 3 (ipykernel)",
   "language": "python",
   "name": "python3"
  },
  "language_info": {
   "codemirror_mode": {
    "name": "ipython",
    "version": 3
   },
   "file_extension": ".py",
   "mimetype": "text/x-python",
   "name": "python",
   "nbconvert_exporter": "python",
   "pygments_lexer": "ipython3",
   "version": "3.9.12"
  }
 },
 "nbformat": 4,
 "nbformat_minor": 5
}
