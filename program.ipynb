{
 "cells": [
  {
   "cell_type": "code",
   "execution_count": 8,
   "metadata": {},
   "outputs": [
    {
     "name": "stdout",
     "output_type": "stream",
     "text": [
      "1\n",
      "2\n",
      "3\n",
      "4\n",
      "factorial is 24\n"
     ]
    }
   ],
   "source": [
    "# find the factorial\n",
    "\n",
    "num=int(input(\"enter a number\"))\n",
    "product = 1\n",
    "for i in range(1,num+1):\n",
    "    print(i)\n",
    "    product=product*i\n",
    "\n",
    "print(f\"factorial is {product}\")"
   ]
  },
  {
   "cell_type": "code",
   "execution_count": null,
   "metadata": {},
   "outputs": [],
   "source": [
    "#Write a python program to remove punctuation from a string\n",
    "\n",
    "\n",
    "punctuation='''!\"#$%&'()*+, -./:;<=>?@[\\]^_`{|}~'''\n",
    "\n",
    "user_input = input('Enter a string: ')\n",
    "\n",
    "remove_punct=\"\"\n",
    "for i in user_input:\n",
    "    if i not in punctuation:\n",
    "        remove_punct+=i \n",
    "        \n",
    "print(remove_punct)\n"
   ]
  },
  {
   "cell_type": "code",
   "execution_count": 9,
   "metadata": {},
   "outputs": [
    {
     "data": {
      "text/plain": [
       "543"
      ]
     },
     "execution_count": 9,
     "metadata": {},
     "output_type": "execute_result"
    }
   ],
   "source": [
    "5432//10"
   ]
  },
  {
   "cell_type": "code",
   "execution_count": 13,
   "metadata": {},
   "outputs": [
    {
     "name": "stdout",
     "output_type": "stream",
     "text": [
      "num digit count is 6\n"
     ]
    }
   ],
   "source": [
    "#  Write a python program to count the number of digits in an integer using a while loop\n",
    "\n",
    "num_digits = 543245\n",
    "count=0\n",
    "while num_digits != 0:\n",
    "    num_digits=num_digits//10\n",
    "    count+=1\n",
    "print (f\"num digit count is {count}\")\n",
    "\n",
    "\n"
   ]
  },
  {
   "cell_type": "code",
   "execution_count": 18,
   "metadata": {},
   "outputs": [
    {
     "name": "stdout",
     "output_type": "stream",
     "text": [
      "1\n",
      "2\n",
      "3\n",
      "4\n",
      "16\n",
      "[1, 4, 9, 16]\n"
     ]
    }
   ],
   "source": [
    "# . Write a python program for the sum of square of first n natural numbers.\n",
    "\n",
    "num=int(input(\"enter a number for the sum of square of first n natural numbers\"))\n",
    "sum_natuaral_num=1\n",
    "square=[]\n",
    "for i in range(1,num+1):\n",
    "    print(i)\n",
    "    sum_natuaral_num=i*i\n",
    "    \n",
    "    square.append(sum_natuaral_num)\n",
    "print(sum_natuaral_num)\n",
    "print(square)\n"
   ]
  },
  {
   "cell_type": "code",
   "execution_count": null,
   "metadata": {},
   "outputs": [],
   "source": [
    "#Write a python program to interchange the first and last element in a list\n",
    "\n",
    "#[1,2,3,4,5,6,7,8,9,10]\n",
    "\n",
    "\n",
    "\n"
   ]
  },
  {
   "cell_type": "code",
   "execution_count": 21,
   "metadata": {},
   "outputs": [
    {
     "name": "stdout",
     "output_type": "stream",
     "text": [
      "it is not \n"
     ]
    }
   ],
   "source": [
    "#Python program to check if a string is a pallindrome or not.\n",
    "\n",
    "a='ratag'\n",
    "panlindrom= a[::-1]\n",
    "if a == panlindrom:\n",
    "    print(\"it is a palindrome\")\n",
    "else:\n",
    "    print(\"it is not \")\n"
   ]
  },
  {
   "cell_type": "code",
   "execution_count": 31,
   "metadata": {},
   "outputs": [
    {
     "name": "stdout",
     "output_type": "stream",
     "text": [
      "fibonacci series is [0, 1, 1, 2, 3, 5, 8, 13, 21] \n",
      "sum is 54\n"
     ]
    }
   ],
   "source": [
    "# Write a python for tha nth fibonacci number\n",
    "num = int(input(\"enter a num\"))\n",
    "listt=[]\n",
    "sum=1\n",
    "a=0\n",
    "b=1\n",
    "\n",
    "listt.append(a)\n",
    "listt.append(b)\n",
    "if num>2:\n",
    "    for i in range(2,num):\n",
    "        c=a+b\n",
    "        #print(c)\n",
    "        sum=sum+c\n",
    "        a=b\n",
    "        b=c\n",
    "        listt.append(c)\n",
    "    print(f\"fibonacci series is {listt} \")\n",
    "    \n",
    "    print(f\"sum is {sum}\")\n",
    "   "
   ]
  },
  {
   "cell_type": "code",
   "execution_count": 29,
   "metadata": {},
   "outputs": [
    {
     "name": "stdout",
     "output_type": "stream",
     "text": [
      "21\n"
     ]
    }
   ],
   "source": [
    "# Function for nth fibonacci number - Dynamic Programming\n",
    "# Taking 1st two fibonacci numbers as 0 and 1\n",
    " \n",
    "FibArray = [0, 1]\n",
    " \n",
    "def fibonacci(n):\n",
    "    if n<0:\n",
    "        print(\"Incorrect input\")\n",
    "    elif n<= len(FibArray):\n",
    "        return FibArray[n-1]\n",
    "    else:\n",
    "        temp_fib = fibonacci(n-1)+fibonacci(n-2)\n",
    "        FibArray.append(temp_fib)\n",
    "        return temp_fib\n",
    " \n",
    "# Driver Program\n",
    " \n",
    "print(fibonacci(9))\n",
    " \n"
   ]
  },
  {
   "cell_type": "code",
   "execution_count": null,
   "metadata": {},
   "outputs": [],
   "source": [
    "#Python program to print even -length words in string\n",
    "\n",
    "def print_even_length_words(s):\n",
    "    words = s.split() \n",
    "    \n",
    "    even_length_words = [word for word in words if len(word)%2==0]\n",
    "    \n",
    "    return even_length_words\n",
    "print(print_even_length_words('The quick brown box jump over the lazy dog'))"
   ]
  },
  {
   "cell_type": "code",
   "execution_count": null,
   "metadata": {},
   "outputs": [],
   "source": [
    "\"\"\"\n",
    "4) You have a bag of chocolates which you need to distribute to a queue of people. \n",
    "Assuming you have more chocolates than people, write a program that distributes chocolates using the following logic\n",
    "\n",
    " - The last person in the queue gets 2 chocolates.\n",
    " - If chocolates are still left over after the first iteration of the queue, \n",
    " continue distribution till all chocolates are exhausted or they cannot be distributed any further while conforming to our logic.    \n",
    "\n",
    "    \"\"\""
   ]
  },
  {
   "cell_type": "code",
   "execution_count": 16,
   "metadata": {},
   "outputs": [
    {
     "name": "stdout",
     "output_type": "stream",
     "text": [
      "1 choclate less\n",
      "9\n",
      "1 choclate less\n",
      "8\n",
      "1 choclate less\n",
      "7\n",
      "1 choclate less\n",
      "6\n",
      "2 choclate less\n",
      "4\n",
      "1 choclate less again \n",
      "3\n",
      "1 choclate less again \n",
      "2\n",
      "1 choclate less again \n",
      "1\n",
      "1 choclate less again \n",
      "0\n",
      "0\n"
     ]
    }
   ],
   "source": [
    "choc=10\n",
    "people =[0,0,0,0,0]\n",
    "l=len(people)\n",
    "for i in range(1,l+1):\n",
    "    if i==l:\n",
    "        choc = choc-2\n",
    "        print(\"2 choclate less\")\n",
    "        print(choc)\n",
    "    else:\n",
    "        choc = choc-1\n",
    "        print(\"1 choclate less\")\n",
    "        print(choc)\n",
    "\n",
    "if choc % l > 1:\n",
    "    n=choc % l\n",
    "\n",
    "    for i in range(1,n+1):\n",
    "        if i==l:\n",
    "            choc = choc-2\n",
    "            print(\"2 choclate less again\")\n",
    "            print(choc)\n",
    "        \n",
    "        else:\n",
    "            choc = choc-1\n",
    "            print(\"1 choclate less again \")\n",
    "            print(choc)\n",
    "print(choc)\n",
    "\n",
    "\n",
    "\n"
   ]
  },
  {
   "cell_type": "code",
   "execution_count": 17,
   "metadata": {},
   "outputs": [
    {
     "name": "stdout",
     "output_type": "stream",
     "text": [
      "[1, 1, 1, 1, 2]\n"
     ]
    }
   ],
   "source": [
    "def distribute_chocolates(chocolates, queue):\n",
    "    n = len(queue)  # Number of people in the queue\n",
    "    chocolates_given = 0  # Number of chocolates given so far\n",
    "\n",
    "    for i in range(n):\n",
    "        if i == n - 1:  # Last person in the queue\n",
    "            queue[i] += 2\n",
    "            chocolates_given += 2\n",
    "        elif chocolates_given < chocolates:\n",
    "            queue[i] += 1\n",
    "            chocolates_given += 1\n",
    "        else:\n",
    "            break  # No more chocolates left to distribute\n",
    "\n",
    "    return queue\n",
    "\n",
    "# Example usage\n",
    "chocolates = 10\n",
    "queue = [0, 0, 0, 0, 0]  # Queue of 5 people\n",
    "\n",
    "distributed_queue = distribute_chocolates(chocolates, queue)\n",
    "print(distributed_queue)\n",
    "\n"
   ]
  },
  {
   "cell_type": "code",
   "execution_count": 19,
   "metadata": {},
   "outputs": [
    {
     "data": {
      "text/plain": [
       "0.7994143484626647"
      ]
     },
     "execution_count": 19,
     "metadata": {},
     "output_type": "execute_result"
    }
   ],
   "source": [
    "546/683\n",
    "\n"
   ]
  },
  {
   "cell_type": "code",
   "execution_count": null,
   "metadata": {},
   "outputs": [],
   "source": [
    "#  Write a code to show multiple inheritance in python"
   ]
  },
  {
   "cell_type": "code",
   "execution_count": null,
   "metadata": {},
   "outputs": [],
   "source": [
    "#  Write a python program to check Armstrong's number."
   ]
  },
  {
   "cell_type": "code",
   "execution_count": null,
   "metadata": {},
   "outputs": [],
   "source": [
    "# Write a python program to check leap year"
   ]
  },
  {
   "cell_type": "code",
   "execution_count": null,
   "metadata": {},
   "outputs": [],
   "source": [
    "#Write a Program to swap two variable without using a third variable."
   ]
  },
  {
   "cell_type": "code",
   "execution_count": null,
   "metadata": {},
   "outputs": [],
   "source": [
    "#Write a Python program to converts Comma Seperated list to String\n",
    "\n",
    "def convert_to_string(lst):\n",
    "    return ','.join(lst)\n",
    "lst = input('Enter a list items seperated by comma: ').split(',') \n",
    "string = convert_to_string(lst)\n",
    "print('String',string)"
   ]
  },
  {
   "cell_type": "code",
   "execution_count": null,
   "metadata": {},
   "outputs": [],
   "source": [
    "#Write a python to get the sum of a non-negative integer"
   ]
  },
  {
   "cell_type": "code",
   "execution_count": 1,
   "metadata": {},
   "outputs": [],
   "source": [
    "#Find duplicate number in the given array:"
   ]
  },
  {
   "cell_type": "code",
   "execution_count": null,
   "metadata": {},
   "outputs": [],
   "source": [
    "#Write a python program that rotated an array by two postion to the right"
   ]
  },
  {
   "cell_type": "code",
   "execution_count": null,
   "metadata": {},
   "outputs": [],
   "source": [
    "#Write a program to check wether the given strings are anagram or not."
   ]
  },
  {
   "cell_type": "code",
   "execution_count": null,
   "metadata": {},
   "outputs": [],
   "source": [
    "#Write a Ptyhon script to implement to Bubble sort algorithm.\n",
    "\n",
    "def bubble_sort(arr):\n",
    "    n=len(arr)\n",
    "    for i in range(n):\n",
    "        for j in range(0,n-i-1):\n",
    "            if arr[j] >arr[j+1]:\n",
    "                arr[j],arr[j+1]=arr[j+1],arr[j]\n",
    "    return arr \n",
    "\n",
    "array = [64,34,25,12,22,11,90]\n",
    "print(\"Sorted array is: \",bubble_sort(array)) "
   ]
  },
  {
   "cell_type": "code",
   "execution_count": null,
   "metadata": {},
   "outputs": [],
   "source": [
    "# Merge two dictionary in single expression."
   ]
  },
  {
   "cell_type": "code",
   "execution_count": null,
   "metadata": {},
   "outputs": [],
   "source": [
    "#Write a program that will find all such numbers which are divisible by 7 but are not a multiple of 5, between 2000 and 3200 (both included).The numbers obtained should be printed in a comma-separated sequence on a single line."
   ]
  },
  {
   "cell_type": "code",
   "execution_count": null,
   "metadata": {},
   "outputs": [],
   "source": [
    "#Print the following number pattern.\n",
    "\"\"\"\n",
    "1 1 1 1 1 \n",
    "2 2 2 2 \n",
    "3 3 3 \n",
    "4 4 \n",
    "5\n",
    "\"\"\""
   ]
  },
  {
   "cell_type": "code",
   "execution_count": null,
   "metadata": {},
   "outputs": [],
   "source": [
    "#Find the maximum values in a given heterogeneous list using lambda."
   ]
  },
  {
   "cell_type": "code",
   "execution_count": null,
   "metadata": {},
   "outputs": [],
   "source": [
    "#Write a Python program to find a list with maximum and minimum length using lambda."
   ]
  },
  {
   "cell_type": "code",
   "execution_count": null,
   "metadata": {},
   "outputs": [],
   "source": [
    "#Write a Python program to add two given lists using map and lambda."
   ]
  },
  {
   "cell_type": "code",
   "execution_count": null,
   "metadata": {},
   "outputs": [],
   "source": [
    "#Write a Python program to add three given lists using Python map and lambda."
   ]
  },
  {
   "cell_type": "code",
   "execution_count": null,
   "metadata": {},
   "outputs": [],
   "source": [
    "#Write a Python program to calculate the value of 'x' to the power of 'y’'."
   ]
  },
  {
   "cell_type": "code",
   "execution_count": null,
   "metadata": {},
   "outputs": [],
   "source": [
    "# Write a Python program to find the greatest common divisor (GCD) of two integers.\n",
    "\n",
    "def Recurgcd(a, b):\n",
    "  low = min(a, b)\n",
    "  high = max(a, b)\n",
    "  if low == 0:\n",
    "    return high\n",
    "  elif low == 1:\n",
    "    return 1\n",
    "  else:\n",
    "    return Recurgcd(low, high%low)\n",
    "print(Recurgcd(40,20))"
   ]
  },
  {
   "cell_type": "code",
   "execution_count": null,
   "metadata": {},
   "outputs": [],
   "source": [
    "#Write a Python program to construct the following pattern, using a nested for loop.\n",
    "\n",
    "\"\"\"\n",
    "*\n",
    "* *\n",
    "* * *\n",
    "* * * *\n",
    "* * * * *\n",
    "* * * *\n",
    "* * *\n",
    "* *\n",
    "*\n",
    "\n",
    "\"\"\""
   ]
  },
  {
   "cell_type": "code",
   "execution_count": null,
   "metadata": {},
   "outputs": [],
   "source": [
    "#Write a Python program to print alphabet pattern 'A'."
   ]
  },
  {
   "cell_type": "code",
   "execution_count": null,
   "metadata": {},
   "outputs": [],
   "source": [
    "# write a program\n",
    "\"\"\"\n",
    "1\n",
    "22\n",
    "333\n",
    "4444\n",
    "55555\n",
    "666666\n",
    "7777777\n",
    "88888888\n",
    "999999999    \n",
    "\"\"\""
   ]
  },
  {
   "cell_type": "code",
   "execution_count": 2,
   "metadata": {},
   "outputs": [
    {
     "name": "stdout",
     "output_type": "stream",
     "text": [
      " ***** \n",
      "   *   \n",
      "   *   \n",
      "   *   \n",
      "   *   \n",
      "   *   \n",
      "   *   \n",
      "\n"
     ]
    }
   ],
   "source": [
    "#Write a Python program to print alphabet pattern 'T'.\n",
    "\n",
    "result_str=\"\"    \n",
    "for row in range(0,7):    \n",
    "    for column in range(0,7):     \n",
    "        if (column == 3 or (row == 0 and column > 0 and column <6)):  \n",
    "            result_str=result_str+\"*\"    \n",
    "        else:      \n",
    "            result_str=result_str+\" \"    \n",
    "    result_str=result_str+\"\\n\"    \n",
    "print(result_str)\n"
   ]
  },
  {
   "cell_type": "code",
   "execution_count": null,
   "metadata": {},
   "outputs": [],
   "source": [
    "#Write a Python program to get next day of a given date.\n",
    "year = int(input(\"Input a year: \"))\n",
    "if (year % 400 == 0):\n",
    "    leap_year = True\n",
    "elif (year % 100 == 0):\n",
    "    leap_year = False\n",
    "elif (year % 4 == 0):\n",
    "    leap_year = True\n",
    "else:\n",
    "    leap_year = False\n",
    "month = int(input(\"Input a month [1-12]: \"))\n",
    "if month in (1, 3, 5, 7, 8, 10, 12):\n",
    "    month_length = 31\n",
    "elif month == 2:\n",
    "    if leap_year:\n",
    "        month_length = 29\n",
    "    else:\n",
    "        month_length = 28\n",
    "else:\n",
    "    month_length = 30\n",
    "day = int(input(\"Input a day [1-31]: \"))\n",
    "if day < month_length:\n",
    "    day += 1\n",
    "    \n",
    "else:\n",
    "    day = 1\n",
    "    if month == 12:\n",
    "        month = 1\n",
    "        year += 1\n",
    "    else:\n",
    "        month += 1\n",
    "print(\"The next date is [yyyy-mm-dd] %d-%d-%d.\" % (year, month, day))"
   ]
  },
  {
   "cell_type": "code",
   "execution_count": null,
   "metadata": {},
   "outputs": [],
   "source": [
    "#Write a Python program to unpack a tuple into several variables."
   ]
  },
  {
   "cell_type": "code",
   "execution_count": null,
   "metadata": {},
   "outputs": [],
   "source": [
    "#Write a Python program to add an item to a tuple."
   ]
  },
  {
   "cell_type": "code",
   "execution_count": null,
   "metadata": {},
   "outputs": [],
   "source": [
    "# Write a Python program to remove an item from a tuple."
   ]
  },
  {
   "cell_type": "code",
   "execution_count": null,
   "metadata": {},
   "outputs": [],
   "source": [
    "#Write a Python program to get the frequency of the tuples in a given list."
   ]
  },
  {
   "cell_type": "code",
   "execution_count": null,
   "metadata": {},
   "outputs": [],
   "source": [
    "#Write a Python program to sum recursion lists.\n",
    "def recursive_list_sum(data_list):\n",
    "  total = 0\n",
    "  for element in data_list:\n",
    "    if type(element) == type([]):\n",
    "      total = total + recursive_list_sum(element)\n",
    "    else:\n",
    "      total = total + element\n",
    "\n",
    "  return total\n",
    "print( recursive_list_sum([1, 2, [3,4],[5,6]]))"
   ]
  },
  {
   "cell_type": "code",
   "execution_count": 3,
   "metadata": {},
   "outputs": [
    {
     "name": "stdout",
     "output_type": "stream",
     "text": [
      "      1 \n",
      "     1 1 \n",
      "    1 2 1 \n",
      "   1 3 3 1 \n",
      "  1 4 6 4 1 \n"
     ]
    }
   ],
   "source": [
    "# Write a Python function that prints out the first n rows of Pascal's triangle.\n",
    "\n",
    "# Print Pascal's Triangle in Python\n",
    "from math import factorial\n",
    " \n",
    "# input n\n",
    "n = 5\n",
    "for i in range(n):\n",
    "    for j in range(n-i+1):\n",
    " \n",
    "        # for left spacing\n",
    "        print(end=\" \")\n",
    " \n",
    "    for j in range(i+1):\n",
    " \n",
    "        # nCr = n!/((n-r)!*r!)\n",
    "        print(factorial(i)//(factorial(j)*factorial(i-j)), end=\" \")\n",
    " \n",
    "    # for new line\n",
    "    print()"
   ]
  },
  {
   "cell_type": "code",
   "execution_count": null,
   "metadata": {},
   "outputs": [],
   "source": [
    "#Write a Python program to execute a string containing Python code."
   ]
  },
  {
   "cell_type": "code",
   "execution_count": null,
   "metadata": {},
   "outputs": [],
   "source": [
    "#Write a Python program to find the kth smallest element in a given binary search tree.\n",
    "\n",
    "class TreeNode(object):\n",
    "    def __init__(self, x):\n",
    "        self.val = x\n",
    "        self.left = None\n",
    "        self.right = None\n",
    "\n",
    "def kth_smallest(root, k):\n",
    "    stack = []\n",
    "    while root or stack:\n",
    "        while root:\n",
    "            stack.append(root)\n",
    "            root = root.left\n",
    "        root = stack.pop()\n",
    "        k -= 1\n",
    "        if k == 0:\n",
    "            break\n",
    "        root = root.right\n",
    "    return root.val\n",
    "\n",
    "root = TreeNode(8)  \n",
    "root.left = TreeNode(5)  \n",
    "root.right = TreeNode(14) \n",
    "root.left.left = TreeNode(4)  \n",
    "root.left.right = TreeNode(6) \n",
    "root.left.right.left = TreeNode(8)  \n",
    "root.left.right.right = TreeNode(7)  \n",
    "root.right.right = TreeNode(24) \n",
    "root.right.right.left = TreeNode(22)  \n",
    "\n",
    "print(kth_smallest(root, 2))\n",
    "print(kth_smallest(root, 3))"
   ]
  },
  {
   "cell_type": "code",
   "execution_count": null,
   "metadata": {},
   "outputs": [],
   "source": [
    "#Write a Python program to multiply two integers without using the * operator."
   ]
  },
  {
   "cell_type": "code",
   "execution_count": null,
   "metadata": {},
   "outputs": [],
   "source": [
    "#Write a Python program to flip a coin 1000 times and count heads and tails."
   ]
  },
  {
   "cell_type": "code",
   "execution_count": null,
   "metadata": {},
   "outputs": [],
   "source": [
    "# Write a program which can filter even numbers in a list by using filter function."
   ]
  },
  {
   "cell_type": "code",
   "execution_count": null,
   "metadata": {},
   "outputs": [],
   "source": [
    "# By using list comprehension, please write a program generate a 358 3D array whose each element is 0."
   ]
  },
  {
   "cell_type": "code",
   "execution_count": null,
   "metadata": {},
   "outputs": [],
   "source": [
    "#write a binary search function which searches an item in a sorted list. The function should return the index of element to be searched in the list.\n",
    "\n",
    "import math\n",
    "def bin_search(li, element):\n",
    "    bottom = 0\n",
    "    top = len(li)-1\n",
    "    index = -1\n",
    "    while top>=bottom and index==-1:\n",
    "        mid = int(math.floor((top+bottom)/2.0))\n",
    "        if li[mid]==element:\n",
    "            index = mid\n",
    "        elif li[mid]>element:\n",
    "            top = mid-1\n",
    "        else:\n",
    "            bottom = mid+1\n",
    "\n",
    "    return index\n",
    "\n",
    "li=[2,5,7,9,11,17,222]\n",
    "print(bin_search(li,11))\n",
    "print(bin_search(li,12))"
   ]
  },
  {
   "cell_type": "code",
   "execution_count": null,
   "metadata": {},
   "outputs": [],
   "source": [
    "#Write a Python program to find the next smallest palindrome of a specified number."
   ]
  },
  {
   "cell_type": "code",
   "execution_count": null,
   "metadata": {},
   "outputs": [],
   "source": []
  },
  {
   "cell_type": "code",
   "execution_count": null,
   "metadata": {},
   "outputs": [],
   "source": []
  },
  {
   "cell_type": "code",
   "execution_count": null,
   "metadata": {},
   "outputs": [],
   "source": []
  },
  {
   "cell_type": "code",
   "execution_count": null,
   "metadata": {},
   "outputs": [],
   "source": []
  },
  {
   "cell_type": "code",
   "execution_count": null,
   "metadata": {},
   "outputs": [],
   "source": []
  },
  {
   "cell_type": "code",
   "execution_count": null,
   "metadata": {},
   "outputs": [],
   "source": []
  },
  {
   "cell_type": "code",
   "execution_count": null,
   "metadata": {},
   "outputs": [],
   "source": []
  },
  {
   "cell_type": "code",
   "execution_count": null,
   "metadata": {},
   "outputs": [],
   "source": []
  },
  {
   "cell_type": "code",
   "execution_count": null,
   "metadata": {},
   "outputs": [],
   "source": []
  },
  {
   "cell_type": "code",
   "execution_count": null,
   "metadata": {},
   "outputs": [],
   "source": []
  },
  {
   "cell_type": "code",
   "execution_count": null,
   "metadata": {},
   "outputs": [],
   "source": []
  },
  {
   "cell_type": "code",
   "execution_count": null,
   "metadata": {},
   "outputs": [],
   "source": []
  },
  {
   "cell_type": "code",
   "execution_count": null,
   "metadata": {},
   "outputs": [],
   "source": []
  },
  {
   "cell_type": "code",
   "execution_count": null,
   "metadata": {},
   "outputs": [],
   "source": []
  }
 ],
 "metadata": {
  "kernelspec": {
   "display_name": "Python 3",
   "language": "python",
   "name": "python3"
  },
  "language_info": {
   "codemirror_mode": {
    "name": "ipython",
    "version": 3
   },
   "file_extension": ".py",
   "mimetype": "text/x-python",
   "name": "python",
   "nbconvert_exporter": "python",
   "pygments_lexer": "ipython3",
   "version": "3.9.0"
  },
  "orig_nbformat": 4
 },
 "nbformat": 4,
 "nbformat_minor": 2
}
